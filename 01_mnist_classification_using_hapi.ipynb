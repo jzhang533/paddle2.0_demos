{
 "cells": [
  {
   "cell_type": "code",
   "execution_count": 2,
   "metadata": {
    "collapsed": false,
    "jupyter": {
     "outputs_hidden": false
    }
   },
   "outputs": [
    {
     "name": "stdout",
     "output_type": "stream",
     "text": [
      "2.0.1\n"
     ]
    }
   ],
   "source": [
    "import paddle\n",
    "print(paddle.__version__)"
   ]
  },
  {
   "cell_type": "code",
   "execution_count": 3,
   "metadata": {
    "collapsed": false,
    "jupyter": {
     "outputs_hidden": false
    }
   },
   "outputs": [],
   "source": [
    "# normalize data: output[channel] = (input[channel] - mean[channel]) / std[channel]\n",
    "normalize = paddle.vision.transforms.Normalize(mean=[0.0], std=[255.])\n",
    "train_dataset = paddle.vision.datasets.MNIST(mode='train', transform=normalize)\n",
    "val_dataset = paddle.vision.datasets.MNIST(mode='test', transform=normalize)\n",
    "\n",
    "mnist = paddle.nn.Sequential(\n",
    "    paddle.nn.Flatten(),\n",
    "    paddle.nn.Linear(784, 1024),\n",
    "    paddle.nn.ReLU(),\n",
    "    paddle.nn.Linear(1024, 512),\n",
    "    paddle.nn.ReLU(),\n",
    "    paddle.nn.Linear(512, 10)\n",
    ")\n",
    "model = paddle.Model(mnist)"
   ]
  },
  {
   "cell_type": "code",
   "execution_count": 4,
   "metadata": {
    "collapsed": false,
    "jupyter": {
     "outputs_hidden": false
    }
   },
   "outputs": [
    {
     "name": "stdout",
     "output_type": "stream",
     "text": [
      "---------------------------------------------------------------------------\n",
      " Layer (type)       Input Shape          Output Shape         Param #    \n",
      "===========================================================================\n",
      "   Flatten-1       [[1, 28, 28]]           [1, 784]              0       \n",
      "   Linear-1          [[1, 784]]           [1, 1024]           803,840    \n",
      "    ReLU-1          [[1, 1024]]           [1, 1024]              0       \n",
      "   Linear-2         [[1, 1024]]            [1, 512]           524,800    \n",
      "    ReLU-2           [[1, 512]]            [1, 512]              0       \n",
      "   Linear-3          [[1, 512]]            [1, 10]             5,130     \n",
      "===========================================================================\n",
      "Total params: 1,333,770\n",
      "Trainable params: 1,333,770\n",
      "Non-trainable params: 0\n",
      "---------------------------------------------------------------------------\n",
      "Input size (MB): 0.00\n",
      "Forward/backward pass size (MB): 0.03\n",
      "Params size (MB): 5.09\n",
      "Estimated Total Size (MB): 5.12\n",
      "---------------------------------------------------------------------------\n",
      "\n",
      "{'total_params': 1333770, 'trainable_params': 1333770}\n"
     ]
    }
   ],
   "source": [
    "print(model.summary((1, 28, 28)))"
   ]
  },
  {
   "cell_type": "code",
   "execution_count": 5,
   "metadata": {
    "collapsed": false,
    "jupyter": {
     "outputs_hidden": false
    }
   },
   "outputs": [
    {
     "name": "stdout",
     "output_type": "stream",
     "text": [
      "The loss value printed in the log is the current step, and the metric is the average value of previous step.\n",
      "Epoch 1/5\n",
      "step   10/1875 [..............................] - loss: 1.0790 - acc: 0.4313 - ETA: 29s - 16ms/step"
     ]
    },
    {
     "name": "stderr",
     "output_type": "stream",
     "text": [
      "/Users/zhangjun25/Desktop/virtualenvs/venv-paddle-develop/lib/python3.7/site-packages/paddle/fluid/layers/utils.py:77: DeprecationWarning: Using or importing the ABCs from 'collections' instead of from 'collections.abc' is deprecated since Python 3.3,and in 3.9 it will stop working\n",
      "  return (isinstance(seq, collections.Sequence) and\n"
     ]
    },
    {
     "name": "stdout",
     "output_type": "stream",
     "text": [
      "step 1875/1875 [==============================] - loss: 0.1308 - acc: 0.9447 - 14ms/step          \n",
      "Eval begin...\n",
      "The loss value printed in the log is the current batch, and the metric is the average value of previous step.\n",
      "step 313/313 [==============================] - loss: 0.0163 - acc: 0.9720 - 5ms/step          \n",
      "Eval samples: 10000\n",
      "Epoch 2/5\n",
      "step 1875/1875 [==============================] - loss: 0.0195 - acc: 0.9756 - 20ms/step          \n",
      "Eval begin...\n",
      "The loss value printed in the log is the current batch, and the metric is the average value of previous step.\n",
      "step 313/313 [==============================] - loss: 0.1382 - acc: 0.9713 - 5ms/step          \n",
      "Eval samples: 10000\n",
      "Epoch 3/5\n",
      "step 1875/1875 [==============================] - loss: 0.0624 - acc: 0.9822 - 21ms/step          \n",
      "Eval begin...\n",
      "The loss value printed in the log is the current batch, and the metric is the average value of previous step.\n",
      "step 313/313 [==============================] - loss: 0.0012 - acc: 0.9788 - 5ms/step            \n",
      "Eval samples: 10000\n",
      "Epoch 4/5\n",
      "step 1875/1875 [==============================] - loss: 7.7096e-04 - acc: 0.9862 - 23ms/step      \n",
      "Eval begin...\n",
      "The loss value printed in the log is the current batch, and the metric is the average value of previous step.\n",
      "step 313/313 [==============================] - loss: 0.0164 - acc: 0.9809 - 5ms/step            \n",
      "Eval samples: 10000\n",
      "Epoch 5/5\n",
      "step 1875/1875 [==============================] - loss: 0.0372 - acc: 0.9895 - 23ms/step          \n",
      "Eval begin...\n",
      "The loss value printed in the log is the current batch, and the metric is the average value of previous step.\n",
      "step 313/313 [==============================] - loss: 3.2430e-05 - acc: 0.9784 - 5ms/step        \n",
      "Eval samples: 10000\n"
     ]
    }
   ],
   "source": [
    "model.prepare(paddle.optimizer.Adam(parameters=model.parameters()), \r\n",
    "              paddle.nn.CrossEntropyLoss(),\r\n",
    "              paddle.metric.Accuracy())\r\n",
    "\r\n",
    "model.fit(train_dataset, val_dataset, epochs=5, batch_size=32, verbose=1)"
   ]
  },
  {
   "cell_type": "code",
   "execution_count": null,
   "metadata": {
    "collapsed": false,
    "jupyter": {
     "outputs_hidden": false
    }
   },
   "outputs": [],
   "source": []
  }
 ],
 "metadata": {
  "kernelspec": {
   "display_name": "Python 3",
   "language": "python",
   "name": "python3"
  },
  "language_info": {
   "codemirror_mode": {
    "name": "ipython",
    "version": 3
   },
   "file_extension": ".py",
   "mimetype": "text/x-python",
   "name": "python",
   "nbconvert_exporter": "python",
   "pygments_lexer": "ipython3",
   "version": "3.7.7"
  }
 },
 "nbformat": 4,
 "nbformat_minor": 4
}
